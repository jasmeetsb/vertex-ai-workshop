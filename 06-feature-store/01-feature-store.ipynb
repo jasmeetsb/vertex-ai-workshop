{
 "cells": [
  {
   "cell_type": "markdown",
   "metadata": {},
   "source": [
    "# Using Feature Store for training and serving"
   ]
  },
  {
   "cell_type": "code",
   "execution_count": 1,
   "metadata": {},
   "outputs": [],
   "source": [
    "import os\n",
    "\n",
    "# The Google Cloud Notebook product has specific requirements\n",
    "IS_GOOGLE_CLOUD_NOTEBOOK = os.path.exists(\"/opt/deeplearning/metadata/env_version\")\n",
    "\n",
    "# Google Cloud Notebook requires dependencies to be installed with '--user'\n",
    "USER_FLAG = \"\"\n",
    "if IS_GOOGLE_CLOUD_NOTEBOOK:\n",
    "    USER_FLAG = \"--user\""
   ]
  },
  {
   "cell_type": "code",
   "execution_count": 1,
   "metadata": {},
   "outputs": [],
   "source": [
    "#!pip install --user kfp==1.6.4\n",
    "#!pip install --user tfx==1.0.0-rc1\n",
    "#!pip install --user google-cloud-bigquery-datatransfer==3.2.0\n",
    "#!pip install --user google-cloud-pipeline-components==0.1.1\n",
    "#!pip install --user google-cloud-aiplatform==1.1.1"
   ]
  },
  {
   "cell_type": "code",
   "execution_count": 2,
   "metadata": {},
   "outputs": [],
   "source": [
    "#!pip3 install {USER_FLAG} --upgrade git+https://github.com/googleapis/python-aiplatform.git@main-test"
   ]
  },
  {
   "cell_type": "code",
   "execution_count": 3,
   "metadata": {},
   "outputs": [],
   "source": [
    "import copy\n",
    "import numpy as np\n",
    "import os\n",
    "import pprint\n",
    "import pandas as pd\n",
    "import random\n",
    "import tensorflow as tf\n",
    "import time\n",
    "\n",
    "from google.cloud import aiplatform\n",
    "from google.cloud import bigquery_datatransfer\n",
    "from google.cloud import bigquery\n",
    "from google.cloud import exceptions\n",
    "\n",
    "from google.cloud.aiplatform_v1beta1 import (\n",
    "    FeaturestoreOnlineServingServiceClient, FeaturestoreServiceClient)\n",
    "from google.cloud.aiplatform_v1beta1.types import FeatureSelector, IdMatcher\n",
    "from google.cloud.aiplatform_v1beta1.types import \\\n",
    "    entity_type as entity_type_pb2\n",
    "from google.cloud.aiplatform_v1beta1.types import feature as feature_pb2\n",
    "from google.cloud.aiplatform_v1beta1.types import \\\n",
    "    featurestore as featurestore_pb2\n",
    "from google.cloud.aiplatform_v1beta1.types import \\\n",
    "    featurestore_monitoring as featurestore_monitoring_pb2\n",
    "from google.cloud.aiplatform_v1beta1.types import \\\n",
    "    featurestore_online_service as featurestore_online_service_pb2\n",
    "from google.cloud.aiplatform_v1beta1.types import \\\n",
    "    featurestore_service as featurestore_service_pb2\n",
    "from google.cloud.aiplatform_v1beta1.types import io as io_pb2\n",
    "from google.protobuf.duration_pb2 import Duration"
   ]
  },
  {
   "cell_type": "code",
   "execution_count": null,
   "metadata": {},
   "outputs": [],
   "source": []
  },
  {
   "cell_type": "markdown",
   "metadata": {},
   "source": [
    "## Configure lab settings"
   ]
  },
  {
   "cell_type": "code",
   "execution_count": 4,
   "metadata": {},
   "outputs": [],
   "source": [
    "PROJECT_ID = 'jsb-demos'\n",
    "REGION = 'us-central1'\n",
    "PREFIX = 'jsb_taxi'\n",
    "\n",
    "API_ENDPOINT = f'{REGION}-aiplatform.googleapis.com'"
   ]
  },
  {
   "cell_type": "markdown",
   "metadata": {},
   "source": [
    "## Create Featurestore clients"
   ]
  },
  {
   "cell_type": "markdown",
   "metadata": {},
   "source": [
    "Admin client for CRUD operations."
   ]
  },
  {
   "cell_type": "code",
   "execution_count": 5,
   "metadata": {},
   "outputs": [],
   "source": [
    "admin_client = FeaturestoreServiceClient(client_options={\"api_endpoint\": API_ENDPOINT})\n",
    "BASE_RESOURCE_PATH = admin_client.common_location_path(PROJECT_ID, REGION)"
   ]
  },
  {
   "cell_type": "markdown",
   "metadata": {},
   "source": [
    "Data client for accessing features."
   ]
  },
  {
   "cell_type": "code",
   "execution_count": 6,
   "metadata": {},
   "outputs": [],
   "source": [
    "data_client = FeaturestoreOnlineServingServiceClient(\n",
    "    client_options={\"api_endpoint\": API_ENDPOINT}\n",
    ")\n"
   ]
  },
  {
   "cell_type": "markdown",
   "metadata": {},
   "source": [
    "## Create Featurestore and define schemas"
   ]
  },
  {
   "cell_type": "markdown",
   "metadata": {},
   "source": [
    "### Create a feature store"
   ]
  },
  {
   "cell_type": "code",
   "execution_count": 7,
   "metadata": {},
   "outputs": [],
   "source": [
    "FEATURESTORE_ID = f'{PREFIX}_featurestore'"
   ]
  },
  {
   "cell_type": "code",
   "execution_count": 8,
   "metadata": {},
   "outputs": [],
   "source": [
    "create_lro = admin_client.create_featurestore(\n",
    "    featurestore_service_pb2.CreateFeaturestoreRequest(\n",
    "        parent=BASE_RESOURCE_PATH,\n",
    "        featurestore_id=FEATURESTORE_ID,\n",
    "        featurestore=featurestore_pb2.Featurestore(\n",
    "            online_serving_config=featurestore_pb2.Featurestore.OnlineServingConfig(\n",
    "                fixed_node_count=3\n",
    "            ),\n",
    "        ),\n",
    "    )\n",
    ")"
   ]
  },
  {
   "cell_type": "code",
   "execution_count": 9,
   "metadata": {},
   "outputs": [
    {
     "data": {
      "text/plain": [
       "name: \"projects/917455532365/locations/us-central1/featurestores/jsb_taxi_featurestore\""
      ]
     },
     "execution_count": 9,
     "metadata": {},
     "output_type": "execute_result"
    }
   ],
   "source": [
    "create_lro.result() # Wait"
   ]
  },
  {
   "cell_type": "markdown",
   "metadata": {},
   "source": [
    "#### List feature stores"
   ]
  },
  {
   "cell_type": "code",
   "execution_count": 10,
   "metadata": {},
   "outputs": [
    {
     "data": {
      "text/plain": [
       "ListFeaturestoresPager<featurestores {\n",
       "  name: \"projects/917455532365/locations/us-central1/featurestores/jsb_taxi_featurestore\"\n",
       "  create_time {\n",
       "    seconds: 1627542424\n",
       "    nanos: 234977000\n",
       "  }\n",
       "  update_time {\n",
       "    seconds: 1627542424\n",
       "    nanos: 310537000\n",
       "  }\n",
       "  etag: \"AMEw9yN_YKsFNlzKT-_4Vj4pqdWUIKZnyl3QjmuS07sjq8gL-DveCfvRJum6mv_lbcTl\"\n",
       "  online_serving_config {\n",
       "    fixed_node_count: 3\n",
       "  }\n",
       "  state: STABLE\n",
       "}\n",
       "featurestores {\n",
       "  name: \"projects/917455532365/locations/us-central1/featurestores/movie_prediction_20210728220735\"\n",
       "  create_time {\n",
       "    seconds: 1627510307\n",
       "    nanos: 181123000\n",
       "  }\n",
       "  update_time {\n",
       "    seconds: 1627510307\n",
       "    nanos: 256385000\n",
       "  }\n",
       "  etag: \"AMEw9yPlTm7vewh0T_fj8VJKq05G_oBzRyvfMAi4Dipg5wFeXphi7cfQvRWcKXucX_o=\"\n",
       "  online_serving_config {\n",
       "    fixed_node_count: 3\n",
       "  }\n",
       "  state: STABLE\n",
       "}\n",
       "featurestores {\n",
       "  name: \"projects/917455532365/locations/us-central1/featurestores/sales_propensity_20210728220735\"\n",
       "  create_time {\n",
       "    seconds: 1627512752\n",
       "    nanos: 27044000\n",
       "  }\n",
       "  update_time {\n",
       "    seconds: 1627512752\n",
       "    nanos: 95741000\n",
       "  }\n",
       "  etag: \"AMEw9yNC3spRXdpYhfd_o5XCcx_6vE0d_3Znyy2wrPagZXFLMMxtxl561fOtc2t3Pgg=\"\n",
       "  online_serving_config {\n",
       "    fixed_node_count: 3\n",
       "  }\n",
       "  state: STABLE\n",
       "}\n",
       ">"
      ]
     },
     "execution_count": 10,
     "metadata": {},
     "output_type": "execute_result"
    }
   ],
   "source": [
    "admin_client.list_featurestores(parent=BASE_RESOURCE_PATH)"
   ]
  },
  {
   "cell_type": "markdown",
   "metadata": {},
   "source": [
    "#### Get your feature store"
   ]
  },
  {
   "cell_type": "code",
   "execution_count": 11,
   "metadata": {},
   "outputs": [
    {
     "data": {
      "text/plain": [
       "name: \"projects/917455532365/locations/us-central1/featurestores/jsb_taxi_featurestore\"\n",
       "create_time {\n",
       "  seconds: 1627542424\n",
       "  nanos: 234977000\n",
       "}\n",
       "update_time {\n",
       "  seconds: 1627542424\n",
       "  nanos: 310537000\n",
       "}\n",
       "etag: \"AMEw9yOr1EmCBWfym6bbxPAi7t8lTbYOqXbhLEO4xLdftBqUWRKhpUHExjNzTGiFnRx8\"\n",
       "online_serving_config {\n",
       "  fixed_node_count: 3\n",
       "}\n",
       "state: STABLE"
      ]
     },
     "execution_count": 11,
     "metadata": {},
     "output_type": "execute_result"
    }
   ],
   "source": [
    "admin_client.get_featurestore(\n",
    "    name=admin_client.featurestore_path(PROJECT_ID, REGION, FEATURESTORE_ID)\n",
    ")"
   ]
  },
  {
   "cell_type": "markdown",
   "metadata": {},
   "source": [
    "### Create Entity Type\n",
    "\n",
    "You can specify a monitoring config which will by default be inherited by all Features under this EntityType."
   ]
  },
  {
   "cell_type": "code",
   "execution_count": 12,
   "metadata": {},
   "outputs": [],
   "source": [
    "ENTITY_TYPE_ID = 'trips'\n",
    "DESCRIPTION = 'Taxi trips'"
   ]
  },
  {
   "cell_type": "code",
   "execution_count": 13,
   "metadata": {},
   "outputs": [
    {
     "name": "stdout",
     "output_type": "stream",
     "text": [
      "name: \"projects/917455532365/locations/us-central1/featurestores/jsb_taxi_featurestore/entityTypes/trips\"\n",
      "etag: \"AMEw9yNsvE_zQ-w1F6U-sb6_qyu5_4R8pppBJn8g41mqNqfGpOg_\"\n",
      "\n"
     ]
    }
   ],
   "source": [
    "entity_type_lro = admin_client.create_entity_type(\n",
    "    featurestore_service_pb2.CreateEntityTypeRequest(\n",
    "        parent=admin_client.featurestore_path(PROJECT_ID, REGION, FEATURESTORE_ID),\n",
    "        entity_type_id=ENTITY_TYPE_ID,\n",
    "        entity_type=entity_type_pb2.EntityType(\n",
    "            description=DESCRIPTION,\n",
    "            monitoring_config=featurestore_monitoring_pb2.FeaturestoreMonitoringConfig(\n",
    "                snapshot_analysis=featurestore_monitoring_pb2.FeaturestoreMonitoringConfig.SnapshotAnalysis(\n",
    "                    monitoring_interval=Duration(seconds=86400),  # 1 day\n",
    "                ),\n",
    "            ),\n",
    "        ),\n",
    "    )\n",
    ")\n",
    "\n",
    "# Similarly, wait for EntityType creation operation.\n",
    "print(entity_type_lro.result())"
   ]
  },
  {
   "cell_type": "markdown",
   "metadata": {},
   "source": [
    "### Create Features"
   ]
  },
  {
   "cell_type": "code",
   "execution_count": 14,
   "metadata": {},
   "outputs": [],
   "source": [
    "features=[\n",
    "        featurestore_service_pb2.CreateFeatureRequest(\n",
    "            feature=feature_pb2.Feature(\n",
    "                value_type=feature_pb2.Feature.ValueType.INT64,\n",
    "                description=\"Month of a trip\",\n",
    "            ),\n",
    "            feature_id=\"trip_month\",\n",
    "        ),\n",
    "        featurestore_service_pb2.CreateFeatureRequest(\n",
    "            feature=feature_pb2.Feature(\n",
    "                value_type=feature_pb2.Feature.ValueType.INT64,\n",
    "                description=\"Day of a trip\",\n",
    "            ),\n",
    "            feature_id=\"trip_day\",\n",
    "        ),\n",
    "        featurestore_service_pb2.CreateFeatureRequest(\n",
    "            feature=feature_pb2.Feature(\n",
    "                value_type=feature_pb2.Feature.ValueType.INT64,\n",
    "                description=\"Day of a week\",\n",
    "            ),\n",
    "            feature_id=\"trip_day_of_week\",\n",
    "        ),\n",
    "        featurestore_service_pb2.CreateFeatureRequest(\n",
    "            feature=feature_pb2.Feature(\n",
    "                value_type=feature_pb2.Feature.ValueType.INT64,\n",
    "                description=\"Hour of a trip\",\n",
    "            ),\n",
    "            feature_id=\"trip_hour\",\n",
    "        ),\n",
    "        featurestore_service_pb2.CreateFeatureRequest(\n",
    "            feature=feature_pb2.Feature(\n",
    "                value_type=feature_pb2.Feature.ValueType.INT64,\n",
    "                description=\"Trip duration in seconds\",\n",
    "            ),\n",
    "            feature_id=\"trip_seconds\",\n",
    "        ),\n",
    "        featurestore_service_pb2.CreateFeatureRequest(\n",
    "            feature=feature_pb2.Feature(\n",
    "                value_type=feature_pb2.Feature.ValueType.STRING,\n",
    "                description=\"Payment type\",\n",
    "            ),\n",
    "\n",
    "            feature_id=\"payment_type\",\n",
    "        ),\n",
    "        featurestore_service_pb2.CreateFeatureRequest(\n",
    "            feature=feature_pb2.Feature(\n",
    "                value_type=feature_pb2.Feature.ValueType.STRING,\n",
    "                description=\"Pick location\",\n",
    "            ),\n",
    "            feature_id=\"pickup_grid\",\n",
    "        ),\n",
    "        featurestore_service_pb2.CreateFeatureRequest(\n",
    "            feature=feature_pb2.Feature(\n",
    "                value_type=feature_pb2.Feature.ValueType.STRING,\n",
    "                description=\"Dropoff location\",\n",
    "            ),\n",
    "            feature_id=\"dropoff_grid\",\n",
    "        ),\n",
    "        featurestore_service_pb2.CreateFeatureRequest(\n",
    "            feature=feature_pb2.Feature(\n",
    "                value_type=feature_pb2.Feature.ValueType.DOUBLE,\n",
    "                description=\"Euclidean distance between pick up and dropoff\",\n",
    "            ),\n",
    "            feature_id=\"euclidean\",\n",
    "        ),\n",
    "        featurestore_service_pb2.CreateFeatureRequest(\n",
    "            feature=feature_pb2.Feature(\n",
    "                value_type=feature_pb2.Feature.ValueType.DOUBLE,\n",
    "                description=\"Miles travelled during the trip\",\n",
    "            ),\n",
    "            feature_id=\"trip_miles\",\n",
    "        ),\n",
    "        featurestore_service_pb2.CreateFeatureRequest(\n",
    "            feature=feature_pb2.Feature(\n",
    "                value_type=feature_pb2.Feature.ValueType.INT64,\n",
    "                description=\"Trip tip classification\",\n",
    "            ),\n",
    "            feature_id=\"tip_bin\",\n",
    "        ),\n",
    "    ]"
   ]
  },
  {
   "cell_type": "code",
   "execution_count": 15,
   "metadata": {},
   "outputs": [
    {
     "data": {
      "text/plain": [
       "features {\n",
       "  name: \"projects/917455532365/locations/us-central1/featurestores/jsb_taxi_featurestore/entityTypes/trips/features/trip_month\"\n",
       "  etag: \"AMEw9yPshozOPojdCGBvdgQK4NrfTcxzr_zbSZk8SVTgDr2HcAtv\"\n",
       "}\n",
       "features {\n",
       "  name: \"projects/917455532365/locations/us-central1/featurestores/jsb_taxi_featurestore/entityTypes/trips/features/trip_day\"\n",
       "  etag: \"AMEw9yMUsdoa2SMggP6VPUhsPg-i_XDYS-ILjmo1niwa6eR0Rtg_\"\n",
       "}\n",
       "features {\n",
       "  name: \"projects/917455532365/locations/us-central1/featurestores/jsb_taxi_featurestore/entityTypes/trips/features/trip_day_of_week\"\n",
       "  etag: \"AMEw9yOAnwXWkhV3PYCgocpeFQZ4aVVRf72dQI9qhfGRxzI62p2v\"\n",
       "}\n",
       "features {\n",
       "  name: \"projects/917455532365/locations/us-central1/featurestores/jsb_taxi_featurestore/entityTypes/trips/features/trip_hour\"\n",
       "  etag: \"AMEw9yNyvoEN-dK5Be_sWSzBCaNKzbcDaiE07qS1kvVUGjuuCoPr\"\n",
       "}\n",
       "features {\n",
       "  name: \"projects/917455532365/locations/us-central1/featurestores/jsb_taxi_featurestore/entityTypes/trips/features/trip_seconds\"\n",
       "  etag: \"AMEw9yOvWm_2VvhrNNZnCkTmp8YfqIZDegVtua1dZb2yVuow33L7\"\n",
       "}\n",
       "features {\n",
       "  name: \"projects/917455532365/locations/us-central1/featurestores/jsb_taxi_featurestore/entityTypes/trips/features/payment_type\"\n",
       "  etag: \"AMEw9yNAHqFcUQlL44WY4SoddhI826GsvLfjm0xxj_wrE-Ue1qIQ\"\n",
       "}\n",
       "features {\n",
       "  name: \"projects/917455532365/locations/us-central1/featurestores/jsb_taxi_featurestore/entityTypes/trips/features/pickup_grid\"\n",
       "  etag: \"AMEw9yPrzdysRQPiR86kxd5Bry6zzpD4PNU_vPpdn1UAWvY7vw2i\"\n",
       "}\n",
       "features {\n",
       "  name: \"projects/917455532365/locations/us-central1/featurestores/jsb_taxi_featurestore/entityTypes/trips/features/dropoff_grid\"\n",
       "  etag: \"AMEw9yNUY1OFzzTdir_aGWycFL-d_Qt5VSMEExs3y1eGXJiT3JB_\"\n",
       "}\n",
       "features {\n",
       "  name: \"projects/917455532365/locations/us-central1/featurestores/jsb_taxi_featurestore/entityTypes/trips/features/euclidean\"\n",
       "  etag: \"AMEw9yMy6aj3zfc47p4gqFlMZeC2ut4_ihIubv53H2srcrOzPQxr\"\n",
       "}\n",
       "features {\n",
       "  name: \"projects/917455532365/locations/us-central1/featurestores/jsb_taxi_featurestore/entityTypes/trips/features/trip_miles\"\n",
       "  etag: \"AMEw9yMxehngFoNkdynqAkD1OCEccjkawwamp9CCPGM9hAhfmt9C\"\n",
       "}\n",
       "features {\n",
       "  name: \"projects/917455532365/locations/us-central1/featurestores/jsb_taxi_featurestore/entityTypes/trips/features/tip_bin\"\n",
       "  etag: \"AMEw9yPTeijOGnbiaT5rztgkGuJDixJAP2Jw7SSOOIWxU17Mdrfx\"\n",
       "}"
      ]
     },
     "execution_count": 15,
     "metadata": {},
     "output_type": "execute_result"
    }
   ],
   "source": [
    "admin_client.batch_create_features(\n",
    "    parent=admin_client.entity_type_path(PROJECT_ID, REGION, FEATURESTORE_ID, ENTITY_TYPE_ID),\n",
    "    requests=features\n",
    ").result()"
   ]
  },
  {
   "cell_type": "markdown",
   "metadata": {},
   "source": [
    "### Discover features"
   ]
  },
  {
   "cell_type": "markdown",
   "metadata": {},
   "source": [
    "#### Search for all features across all featurestores"
   ]
  },
  {
   "cell_type": "code",
   "execution_count": 16,
   "metadata": {},
   "outputs": [
    {
     "name": "stdout",
     "output_type": "stream",
     "text": [
      "Dropoff location\n",
      "projects/917455532365/locations/us-central1/featurestores/jsb_taxi_featurestore/entityTypes/trips/features/dropoff_grid\n",
      "Euclidean distance between pick up and dropoff\n",
      "projects/917455532365/locations/us-central1/featurestores/jsb_taxi_featurestore/entityTypes/trips/features/euclidean\n",
      "Payment type\n",
      "projects/917455532365/locations/us-central1/featurestores/jsb_taxi_featurestore/entityTypes/trips/features/payment_type\n",
      "Pick location\n",
      "projects/917455532365/locations/us-central1/featurestores/jsb_taxi_featurestore/entityTypes/trips/features/pickup_grid\n",
      "Trip tip classification\n",
      "projects/917455532365/locations/us-central1/featurestores/jsb_taxi_featurestore/entityTypes/trips/features/tip_bin\n",
      "Day of a trip\n",
      "projects/917455532365/locations/us-central1/featurestores/jsb_taxi_featurestore/entityTypes/trips/features/trip_day\n",
      "Day of a week\n",
      "projects/917455532365/locations/us-central1/featurestores/jsb_taxi_featurestore/entityTypes/trips/features/trip_day_of_week\n",
      "Hour of a trip\n",
      "projects/917455532365/locations/us-central1/featurestores/jsb_taxi_featurestore/entityTypes/trips/features/trip_hour\n",
      "Miles travelled during the trip\n",
      "projects/917455532365/locations/us-central1/featurestores/jsb_taxi_featurestore/entityTypes/trips/features/trip_miles\n",
      "Month of a trip\n",
      "projects/917455532365/locations/us-central1/featurestores/jsb_taxi_featurestore/entityTypes/trips/features/trip_month\n",
      "Trip duration in seconds\n",
      "projects/917455532365/locations/us-central1/featurestores/jsb_taxi_featurestore/entityTypes/trips/features/trip_seconds\n",
      "The average rating for the movie, range is [1.0-5.0]\n",
      "projects/917455532365/locations/us-central1/featurestores/movie_prediction_20210728220735/entityTypes/movies/features/average_rating\n",
      "The genres of the movie\n",
      "projects/917455532365/locations/us-central1/featurestores/movie_prediction_20210728220735/entityTypes/movies/features/genres\n",
      "The title of the movie\n",
      "projects/917455532365/locations/us-central1/featurestores/movie_prediction_20210728220735/entityTypes/movies/features/title\n",
      "User age\n",
      "projects/917455532365/locations/us-central1/featurestores/movie_prediction_20210728220735/entityTypes/users/features/age\n",
      "User gender\n",
      "projects/917455532365/locations/us-central1/featurestores/movie_prediction_20210728220735/entityTypes/users/features/gender\n",
      "An array of genres that this user liked\n",
      "projects/917455532365/locations/us-central1/featurestores/movie_prediction_20210728220735/entityTypes/users/features/liked_genres\n",
      "\n",
      "projects/917455532365/locations/us-central1/featurestores/sales_propensity_20210728220735/entityTypes/customer/features/age\n",
      "country of residence\n",
      "projects/917455532365/locations/us-central1/featurestores/sales_propensity_20210728220735/entityTypes/customer/features/country\n",
      "Customer ID\n",
      "projects/917455532365/locations/us-central1/featurestores/sales_propensity_20210728220735/entityTypes/customer/features/cust_id\n",
      "Total value of all purchases made so far\n",
      "projects/917455532365/locations/us-central1/featurestores/sales_propensity_20210728220735/entityTypes/customer/features/lifetime_purchases\n",
      "State of residence\n",
      "projects/917455532365/locations/us-central1/featurestores/sales_propensity_20210728220735/entityTypes/customer/features/state\n"
     ]
    }
   ],
   "source": [
    "for feature in admin_client.search_features(location=BASE_RESOURCE_PATH):\n",
    "    print(feature.description)\n",
    "    print(feature.name)"
   ]
  },
  {
   "cell_type": "markdown",
   "metadata": {},
   "source": [
    "#### Search for all features that are of type DOUBLE"
   ]
  },
  {
   "cell_type": "code",
   "execution_count": 17,
   "metadata": {},
   "outputs": [
    {
     "name": "stdout",
     "output_type": "stream",
     "text": [
      "Euclidean distance between pick up and dropoff\n",
      "projects/917455532365/locations/us-central1/featurestores/jsb_taxi_featurestore/entityTypes/trips/features/euclidean\n",
      "Miles travelled during the trip\n",
      "projects/917455532365/locations/us-central1/featurestores/jsb_taxi_featurestore/entityTypes/trips/features/trip_miles\n",
      "The average rating for the movie, range is [1.0-5.0]\n",
      "projects/917455532365/locations/us-central1/featurestores/movie_prediction_20210728220735/entityTypes/movies/features/average_rating\n",
      "Total value of all purchases made so far\n",
      "projects/917455532365/locations/us-central1/featurestores/sales_propensity_20210728220735/entityTypes/customer/features/lifetime_purchases\n"
     ]
    }
   ],
   "source": [
    "features = admin_client.search_features(\n",
    "    featurestore_service_pb2.SearchFeaturesRequest(\n",
    "        location=BASE_RESOURCE_PATH, query=\"value_type=DOUBLE\"\n",
    "    )\n",
    ")\n",
    "\n",
    "for feature in features:\n",
    "    print(feature.description)\n",
    "    print(feature.name)"
   ]
  },
  {
   "cell_type": "markdown",
   "metadata": {},
   "source": [
    "#### Search for all features with specific keywords in their ID"
   ]
  },
  {
   "cell_type": "code",
   "execution_count": 18,
   "metadata": {},
   "outputs": [
    {
     "name": "stdout",
     "output_type": "stream",
     "text": [
      "Dropoff location\n",
      "projects/917455532365/locations/us-central1/featurestores/jsb_taxi_featurestore/entityTypes/trips/features/dropoff_grid\n",
      "Pick location\n",
      "projects/917455532365/locations/us-central1/featurestores/jsb_taxi_featurestore/entityTypes/trips/features/pickup_grid\n"
     ]
    }
   ],
   "source": [
    "features = admin_client.search_features(\n",
    "    featurestore_service_pb2.SearchFeaturesRequest(\n",
    "        location=BASE_RESOURCE_PATH, query=\"feature_id:grid AND value_type=STRING\"\n",
    "    )\n",
    ")\n",
    "\n",
    "for feature in features:\n",
    "    print(feature.description)\n",
    "    print(feature.name)"
   ]
  },
  {
   "cell_type": "markdown",
   "metadata": {},
   "source": [
    "## Import Feature Values"
   ]
  },
  {
   "cell_type": "markdown",
   "metadata": {},
   "source": [
    "### Prepare import table"
   ]
  },
  {
   "cell_type": "code",
   "execution_count": 19,
   "metadata": {},
   "outputs": [],
   "source": [
    "BQ_DATASET_NAME = f'{PREFIX}_dataset' \n",
    "BQ_TABLE_NAME = 'feature_staging_table'\n",
    "BQ_LOCATION = 'US'\n",
    "SAMPLE_SIZE = 500000\n",
    "YEAR = 2020"
   ]
  },
  {
   "cell_type": "code",
   "execution_count": 20,
   "metadata": {},
   "outputs": [
    {
     "name": "stdout",
     "output_type": "stream",
     "text": [
      "Created dataset:  jsb-demos.jsb_taxi_dataset\n"
     ]
    }
   ],
   "source": [
    "client = bigquery.Client()\n",
    "\n",
    "dataset_id = f'{PROJECT_ID}.{BQ_DATASET_NAME}'\n",
    "dataset = bigquery.Dataset(dataset_id)\n",
    "dataset.location = BQ_LOCATION\n",
    "\n",
    "try:\n",
    "    dataset = client.create_dataset(dataset, timeout=30)\n",
    "    print('Created dataset: ', dataset_id)\n",
    "except exceptions.Conflict:\n",
    "    print('Dataset {} already exists'.format(dataset_id))"
   ]
  },
  {
   "cell_type": "code",
   "execution_count": 21,
   "metadata": {},
   "outputs": [
    {
     "data": {
      "text/plain": [
       "<google.cloud.bigquery.table._EmptyRowIterator at 0x7fd0346dfd50>"
      ]
     },
     "execution_count": 21,
     "metadata": {},
     "output_type": "execute_result"
    }
   ],
   "source": [
    "sql_script_template = '''\n",
    "CREATE OR REPLACE TABLE `@PROJECT.@DATASET.@TABLE` \n",
    "AS (\n",
    "    WITH\n",
    "      taxitrips AS (\n",
    "      SELECT\n",
    "        unique_key AS trip_id,\n",
    "        FORMAT_DATETIME('%Y-%d-%m', trip_start_timestamp) AS date,\n",
    "        trip_start_timestamp,\n",
    "        trip_seconds,\n",
    "        trip_miles,\n",
    "        payment_type,\n",
    "        pickup_longitude,\n",
    "        pickup_latitude,\n",
    "        dropoff_longitude,\n",
    "        dropoff_latitude,\n",
    "        tips,\n",
    "        fare\n",
    "      FROM\n",
    "        `bigquery-public-data.chicago_taxi_trips.taxi_trips`\n",
    "      WHERE 1=1 \n",
    "      AND pickup_longitude IS NOT NULL\n",
    "      AND pickup_latitude IS NOT NULL\n",
    "      AND dropoff_longitude IS NOT NULL\n",
    "      AND dropoff_latitude IS NOT NULL\n",
    "      AND trip_miles > 0\n",
    "      AND trip_seconds > 0\n",
    "      AND fare > 0\n",
    "      AND EXTRACT(YEAR FROM trip_start_timestamp) = @YEAR\n",
    "    )\n",
    "    SELECT\n",
    "      trip_id,\n",
    "      trip_start_timestamp,\n",
    "      EXTRACT(MONTH from trip_start_timestamp) as trip_month,\n",
    "      EXTRACT(DAY from trip_start_timestamp) as trip_day,\n",
    "      EXTRACT(DAYOFWEEK from trip_start_timestamp) as trip_day_of_week,\n",
    "      EXTRACT(HOUR from trip_start_timestamp) as trip_hour,\n",
    "      trip_seconds,\n",
    "      trip_miles,\n",
    "      payment_type,\n",
    "      ST_AsText(\n",
    "          ST_SnapToGrid(ST_GeogPoint(pickup_longitude, pickup_latitude), 0.1)\n",
    "      ) AS pickup_grid,\n",
    "      ST_AsText(\n",
    "          ST_SnapToGrid(ST_GeogPoint(dropoff_longitude, dropoff_latitude), 0.1)\n",
    "      ) AS dropoff_grid,\n",
    "      ST_Distance(\n",
    "          ST_GeogPoint(pickup_longitude, pickup_latitude), \n",
    "          ST_GeogPoint(dropoff_longitude, dropoff_latitude)\n",
    "      ) AS euclidean,\n",
    "      IF((tips/fare >= 0.2), 1, 0) AS tip_bin,\n",
    "      CASE (ABS(MOD(FARM_FINGERPRINT(date),10))) \n",
    "          WHEN 9 THEN 'TEST'\n",
    "          WHEN 8 THEN 'VALIDATE'\n",
    "          ELSE 'TRAIN' END AS data_split\n",
    "    FROM\n",
    "      taxitrips\n",
    "    LIMIT @LIMIT\n",
    ")\n",
    "'''\n",
    "\n",
    "\n",
    "sql_script = sql_script_template.replace(\n",
    "    '@PROJECT', PROJECT_ID).replace(\n",
    "    '@DATASET', BQ_DATASET_NAME).replace(\n",
    "    '@TABLE', BQ_TABLE_NAME).replace(\n",
    "    '@YEAR', str(YEAR)).replace(\n",
    "    '@LIMIT', str(SAMPLE_SIZE))\n",
    "\n",
    "job = client.query(sql_script)\n",
    "job.result()"
   ]
  },
  {
   "cell_type": "code",
   "execution_count": null,
   "metadata": {},
   "outputs": [],
   "source": []
  },
  {
   "cell_type": "markdown",
   "metadata": {},
   "source": [
    "### Import features"
   ]
  },
  {
   "cell_type": "code",
   "execution_count": 22,
   "metadata": {},
   "outputs": [],
   "source": [
    "entity_id_field = 'trip_id'\n",
    "bq_table = f'bq://{PROJECT_ID}.{BQ_DATASET_NAME}.{BQ_TABLE_NAME}'\n",
    "\n",
    "import_request = featurestore_service_pb2.ImportFeatureValuesRequest(\n",
    "    entity_type=admin_client.entity_type_path(\n",
    "        PROJECT_ID, REGION, FEATURESTORE_ID, ENTITY_TYPE_ID\n",
    "    ),\n",
    "    bigquery_source=io_pb2.BigQuerySource(\n",
    "        input_uri=bq_table\n",
    "    ),\n",
    "    entity_id_field=entity_id_field,\n",
    "    feature_specs=[\n",
    "        featurestore_service_pb2.ImportFeatureValuesRequest.FeatureSpec(id=\"tip_bin\"),\n",
    "        featurestore_service_pb2.ImportFeatureValuesRequest.FeatureSpec(id=\"trip_month\"),\n",
    "        featurestore_service_pb2.ImportFeatureValuesRequest.FeatureSpec(id=\"trip_day\"),\n",
    "        featurestore_service_pb2.ImportFeatureValuesRequest.FeatureSpec(id=\"trip_day_of_week\"),\n",
    "        featurestore_service_pb2.ImportFeatureValuesRequest.FeatureSpec(id=\"trip_hour\"),\n",
    "        featurestore_service_pb2.ImportFeatureValuesRequest.FeatureSpec(id=\"payment_type\"),\n",
    "        featurestore_service_pb2.ImportFeatureValuesRequest.FeatureSpec(id=\"pickup_grid\"),\n",
    "        featurestore_service_pb2.ImportFeatureValuesRequest.FeatureSpec(id=\"dropoff_grid\"),\n",
    "        featurestore_service_pb2.ImportFeatureValuesRequest.FeatureSpec(id=\"euclidean\"),\n",
    "        featurestore_service_pb2.ImportFeatureValuesRequest.FeatureSpec(id=\"trip_seconds\"),\n",
    "        featurestore_service_pb2.ImportFeatureValuesRequest.FeatureSpec(id=\"trip_miles\"),\n",
    "    ],\n",
    "    feature_time_field=\"trip_start_timestamp\",\n",
    "    worker_count=1,\n",
    ")"
   ]
  },
  {
   "cell_type": "code",
   "execution_count": 23,
   "metadata": {},
   "outputs": [],
   "source": [
    "ingestion_lro = admin_client.import_feature_values(import_request)"
   ]
  },
  {
   "cell_type": "code",
   "execution_count": 37,
   "metadata": {},
   "outputs": [
    {
     "data": {
      "text/plain": [
       "imported_entity_count: 500000\n",
       "imported_feature_value_count: 5500000"
      ]
     },
     "execution_count": 37,
     "metadata": {},
     "output_type": "execute_result"
    }
   ],
   "source": [
    "ingestion_lro.result()"
   ]
  },
  {
   "cell_type": "markdown",
   "metadata": {},
   "source": [
    "## Online serving\n",
    "\n",
    "The\n",
    "[Online Serving APIs](https://cloud.google.com/vertex-ai/featurestore/docs/reference/rpc/google.cloud.aiplatform.v1beta1#featurestoreonlineservingservice)\n",
    "lets you serve feature values for small batches of entities. It's designed for latency-sensitive service, such as online model prediction. For example, for a movie service, you might want to quickly shows movies that the current user would most likely watch by using online predictions."
   ]
  },
  {
   "cell_type": "markdown",
   "metadata": {},
   "source": [
    "### Read one entity per request\n",
    "\n",
    "The ReadFeatureValues API is used to read feature values of one entity; hence\n",
    "its custom HTTP verb is `readFeatureValues`. By default, the API will return the  latest value of each feature, meaning the feature values with the most recent  timestamp.\n",
    "\n",
    "To read feature values, specify the entity ID and features to read. The response\n",
    "contains a `header` and an `entity_view`. Each row of data in the `entity_view`\n",
    "contains one feature value, in the same order of features as listed in the response header."
   ]
  },
  {
   "cell_type": "code",
   "execution_count": 41,
   "metadata": {},
   "outputs": [
    {
     "data": {
      "text/plain": [
       "header {\n",
       "  entity_type: \"projects/917455532365/locations/us-central1/featurestores/jsb_taxi_featurestore/entityTypes/trips\"\n",
       "  feature_descriptors {\n",
       "    id: \"tip_bin\"\n",
       "  }\n",
       "  feature_descriptors {\n",
       "    id: \"trip_miles\"\n",
       "  }\n",
       "  feature_descriptors {\n",
       "    id: \"trip_day\"\n",
       "  }\n",
       "  feature_descriptors {\n",
       "    id: \"payment_type\"\n",
       "  }\n",
       "}\n",
       "entity_view {\n",
       "  entity_id: \"13311b767c033d82e37439228ef23fd1d018d061\"\n",
       "  data {\n",
       "    value {\n",
       "      int64_value: 0\n",
       "      metadata {\n",
       "        generate_time {\n",
       "          seconds: 1592524800\n",
       "        }\n",
       "      }\n",
       "    }\n",
       "  }\n",
       "  data {\n",
       "    value {\n",
       "      double_value: 1.1\n",
       "      metadata {\n",
       "        generate_time {\n",
       "          seconds: 1592524800\n",
       "        }\n",
       "      }\n",
       "    }\n",
       "  }\n",
       "  data {\n",
       "    value {\n",
       "      int64_value: 19\n",
       "      metadata {\n",
       "        generate_time {\n",
       "          seconds: 1592524800\n",
       "        }\n",
       "      }\n",
       "    }\n",
       "  }\n",
       "  data {\n",
       "    value {\n",
       "      string_value: \"Prcard\"\n",
       "      metadata {\n",
       "        generate_time {\n",
       "          seconds: 1592524800\n",
       "        }\n",
       "      }\n",
       "    }\n",
       "  }\n",
       "}"
      ]
     },
     "execution_count": 41,
     "metadata": {},
     "output_type": "execute_result"
    }
   ],
   "source": [
    "feature_selector = FeatureSelector(\n",
    "    id_matcher=IdMatcher(ids=[\"tip_bin\", \"trip_miles\", \"trip_day\",\"payment_type\"])\n",
    ")\n",
    "\n",
    "features = data_client.read_feature_values(\n",
    "    featurestore_online_service_pb2.ReadFeatureValuesRequest(\n",
    "        # Fetch from the following feature store/entity type\n",
    "        entity_type=admin_client.entity_type_path(\n",
    "            PROJECT_ID, REGION, FEATURESTORE_ID, ENTITY_TYPE_ID\n",
    "        ),\n",
    "        # Fetch the user features whose ID is \"alice\"\n",
    "        entity_id=\"13311b767c033d82e37439228ef23fd1d018d061\",\n",
    "        #trip_miles = 100,\n",
    "        feature_selector=feature_selector,\n",
    "    )\n",
    ")\n",
    "features"
   ]
  },
  {
   "cell_type": "markdown",
   "metadata": {},
   "source": [
    "### Read multiple entities per request"
   ]
  },
  {
   "cell_type": "code",
   "execution_count": 26,
   "metadata": {},
   "outputs": [],
   "source": [
    "response_stream = data_client.streaming_read_feature_values(\n",
    "    featurestore_online_service_pb2.StreamingReadFeatureValuesRequest(\n",
    "        entity_type=admin_client.entity_type_path(\n",
    "            PROJECT_ID, REGION, FEATURESTORE_ID, ENTITY_TYPE_ID\n",
    "        ),\n",
    "        entity_ids=[\"13311b767c033d82e37439228ef23fd1d018d061\", \"0e9be1edf79c3d88b4da5b9d11c2651538fb33b4\"],\n",
    "        feature_selector=feature_selector,\n",
    "    )\n",
    ")"
   ]
  },
  {
   "cell_type": "code",
   "execution_count": 27,
   "metadata": {},
   "outputs": [
    {
     "name": "stdout",
     "output_type": "stream",
     "text": [
      "header {\n",
      "  entity_type: \"projects/917455532365/locations/us-central1/featurestores/jsb_taxi_featurestore/entityTypes/trips\"\n",
      "  feature_descriptors {\n",
      "    id: \"tip_bin\"\n",
      "  }\n",
      "  feature_descriptors {\n",
      "    id: \"trip_miles\"\n",
      "  }\n",
      "  feature_descriptors {\n",
      "    id: \"trip_day\"\n",
      "  }\n",
      "}\n",
      "\n",
      "entity_view {\n",
      "  entity_id: \"0e9be1edf79c3d88b4da5b9d11c2651538fb33b4\"\n",
      "  data {\n",
      "    value {\n",
      "      int64_value: 0\n",
      "      metadata {\n",
      "        generate_time {\n",
      "          seconds: 1592524800\n",
      "        }\n",
      "      }\n",
      "    }\n",
      "  }\n",
      "  data {\n",
      "    value {\n",
      "      double_value: 0.9\n",
      "      metadata {\n",
      "        generate_time {\n",
      "          seconds: 1592524800\n",
      "        }\n",
      "      }\n",
      "    }\n",
      "  }\n",
      "  data {\n",
      "    value {\n",
      "      int64_value: 19\n",
      "      metadata {\n",
      "        generate_time {\n",
      "          seconds: 1592524800\n",
      "        }\n",
      "      }\n",
      "    }\n",
      "  }\n",
      "}\n",
      "\n",
      "entity_view {\n",
      "  entity_id: \"13311b767c033d82e37439228ef23fd1d018d061\"\n",
      "  data {\n",
      "    value {\n",
      "      int64_value: 0\n",
      "      metadata {\n",
      "        generate_time {\n",
      "          seconds: 1592524800\n",
      "        }\n",
      "      }\n",
      "    }\n",
      "  }\n",
      "  data {\n",
      "    value {\n",
      "      double_value: 1.1\n",
      "      metadata {\n",
      "        generate_time {\n",
      "          seconds: 1592524800\n",
      "        }\n",
      "      }\n",
      "    }\n",
      "  }\n",
      "  data {\n",
      "    value {\n",
      "      int64_value: 19\n",
      "      metadata {\n",
      "        generate_time {\n",
      "          seconds: 1592524800\n",
      "        }\n",
      "      }\n",
      "    }\n",
      "  }\n",
      "}\n",
      "\n"
     ]
    }
   ],
   "source": [
    "for response in response_stream:\n",
    "    print(response)"
   ]
  },
  {
   "cell_type": "markdown",
   "metadata": {},
   "source": [
    "## Batch serving\n",
    "\n",
    "Batch Serving is used to fetch a large batch of feature values for high-throughput, typically for training a model or batch prediction. In this section, you will learn how to prepare for training examples by calling the BatchReadFeatureValues API."
   ]
  },
  {
   "cell_type": "markdown",
   "metadata": {},
   "source": [
    "### Use case\n",
    "\n"
   ]
  },
  {
   "cell_type": "code",
   "execution_count": 90,
   "metadata": {},
   "outputs": [],
   "source": [
    "INPUT_CSV_FILE = \"gs://cloud-samples-data-us-central1/ai-platform-unified/datasets/featurestore/movie_prediction.csv\"\n",
    "INPUT_CSV_FILE = \"gs://jsb-demos-central1/vertex-ai-demo/feature_store/taxi_trip_ids.csv\"\n"
   ]
  },
  {
   "cell_type": "code",
   "execution_count": 91,
   "metadata": {},
   "outputs": [],
   "source": [
    "from datetime import datetime"
   ]
  },
  {
   "cell_type": "code",
   "execution_count": 104,
   "metadata": {},
   "outputs": [],
   "source": [
    "# Output dataset\n",
    "DESTINATION_DATA_SET = \"jsb_taxi_dataset2\"  # @param {type:\"string\"}\n",
    "TIMESTAMP = datetime.now().strftime(\"%Y%m%d%H%M%S\")\n",
    "#DESTINATION_DATA_SET = \"{prefix}_{timestamp}\".format(\n",
    "#    prefix=DESTINATION_DATA_SET, timestamp=TIMESTAMP)\n",
    "\n",
    "# Output table. Make sure that the table does NOT already exist; the BatchReadFeatureValues API cannot overwrite an existing table\n",
    "DESTINATION_TABLE_NAME = \"training_data\"  # @param {type:\"string\"}\n",
    "DESTINATION_TABLE_NAME = \"{prefix}_{timestamp}\".format(\n",
    "    prefix=DESTINATION_TABLE_NAME, timestamp=TIMESTAMP)\n",
    "\n",
    "DESTINATION_PATTERN = \"bq://{project}.{dataset}.{table}\"\n",
    "DESTINATION_TABLE_URI = DESTINATION_PATTERN.format(\n",
    "    project=PROJECT_ID, dataset=DESTINATION_DATA_SET, table=DESTINATION_TABLE_NAME\n",
    ")"
   ]
  },
  {
   "cell_type": "code",
   "execution_count": 105,
   "metadata": {},
   "outputs": [],
   "source": [
    "batch_serving_request = featurestore_service_pb2.BatchReadFeatureValuesRequest(\n",
    "    # featurestore info\n",
    "    featurestore=admin_client.featurestore_path(PROJECT_ID, REGION, FEATURESTORE_ID),\n",
    "    # URL for the label data, i.e., Table 1.\n",
    "    csv_read_instances=io_pb2.CsvSource(\n",
    "        gcs_source=io_pb2.GcsSource(uris=[INPUT_CSV_FILE])\n",
    "    ),\n",
    "    destination=featurestore_service_pb2.FeatureValueDestination(\n",
    "        bigquery_destination=io_pb2.BigQueryDestination(\n",
    "            # Output to BigQuery table created earlier\n",
    "            output_uri=DESTINATION_TABLE_URI\n",
    "        )\n",
    "    ),\n",
    "    entity_type_specs=[\n",
    "        featurestore_service_pb2.BatchReadFeatureValuesRequest.EntityTypeSpec(\n",
    "            # Read the 'age', 'gender' and 'liked_genres' features from the 'users' entity\n",
    "            entity_type_id=\"trips\",\n",
    "            feature_selector=FeatureSelector(\n",
    "                id_matcher=IdMatcher(\n",
    "                    ids=[\n",
    "                        # features, use \"*\" if you want to select all features within this entity type\n",
    "                        #\"trip_month\",\n",
    "                        #\"trip_day\",\n",
    "                        \"trip_hour\",\n",
    "                        \"pickup_grid\",\n",
    "                        \"payment_type\",\n",
    "                        #\"*\",\n",
    "   \n",
    "                    ]\n",
    "                )\n",
    "            ),\n",
    "        ),\n",
    "        #Showcasing how to get feature data from second Feature Store Instance\n",
    "        featurestore_service_pb2.BatchReadFeatureValuesRequest.EntityTypeSpec(\n",
    "            # Read the 'average_rating' and 'genres' feature values of the 'movies' entity\n",
    "            entity_type_id=\"trips\",\n",
    "            feature_selector=FeatureSelector(\n",
    "                id_matcher=IdMatcher(ids=[\"trip_month\", \"trip_day\"])\n",
    "            ),\n",
    "        ),\n",
    "    ],\n",
    ")"
   ]
  },
  {
   "cell_type": "code",
   "execution_count": 106,
   "metadata": {},
   "outputs": [],
   "source": [
    "# Execute the batch read\n",
    "batch_serving_lro = admin_client.batch_read_feature_values(batch_serving_request)"
   ]
  },
  {
   "cell_type": "code",
   "execution_count": 109,
   "metadata": {},
   "outputs": [
    {
     "data": {
      "text/plain": []
     },
     "execution_count": 109,
     "metadata": {},
     "output_type": "execute_result"
    }
   ],
   "source": [
    "# This long runing operation will poll until the batch read finishes.\n",
    "batch_serving_lro.result()"
   ]
  },
  {
   "cell_type": "code",
   "execution_count": 123,
   "metadata": {},
   "outputs": [],
   "source": [
    "\n",
    "SAMPLE_SIZE = \"10\""
   ]
  },
  {
   "cell_type": "code",
   "execution_count": 122,
   "metadata": {},
   "outputs": [
    {
     "ename": "AttributeError",
     "evalue": "'BigQueryReadClient' object has no attribute '_transport'",
     "output_type": "error",
     "traceback": [
      "\u001b[0;31m---------------------------------------------------------------------------\u001b[0m",
      "\u001b[0;31mAttributeError\u001b[0m                            Traceback (most recent call last)",
      "\u001b[0;32m/opt/conda/lib/python3.7/site-packages/google/cloud/bigquery/table.py\u001b[0m in \u001b[0;36mto_arrow\u001b[0;34m(self, progress_bar_type, bqstorage_client, create_bqstorage_client)\u001b[0m\n\u001b[1;32m   1599\u001b[0m             for record_batch in self._to_arrow_iterable(\n\u001b[0;32m-> 1600\u001b[0;31m                 \u001b[0mbqstorage_client\u001b[0m\u001b[0;34m=\u001b[0m\u001b[0mbqstorage_client\u001b[0m\u001b[0;34m\u001b[0m\u001b[0;34m\u001b[0m\u001b[0m\n\u001b[0m\u001b[1;32m   1601\u001b[0m             ):\n",
      "\u001b[0;32m/opt/conda/lib/python3.7/site-packages/google/cloud/bigquery/table.py\u001b[0m in \u001b[0;36m_to_page_iterable\u001b[0;34m(self, bqstorage_download, tabledata_list_download, bqstorage_client)\u001b[0m\n\u001b[1;32m   1493\u001b[0m         \u001b[0;32mif\u001b[0m \u001b[0mbqstorage_client\u001b[0m \u001b[0;32mis\u001b[0m \u001b[0;32mnot\u001b[0m \u001b[0;32mNone\u001b[0m\u001b[0;34m:\u001b[0m\u001b[0;34m\u001b[0m\u001b[0;34m\u001b[0m\u001b[0m\n\u001b[0;32m-> 1494\u001b[0;31m             \u001b[0;32mfor\u001b[0m \u001b[0mitem\u001b[0m \u001b[0;32min\u001b[0m \u001b[0mbqstorage_download\u001b[0m\u001b[0;34m(\u001b[0m\u001b[0;34m)\u001b[0m\u001b[0;34m:\u001b[0m\u001b[0;34m\u001b[0m\u001b[0;34m\u001b[0m\u001b[0m\n\u001b[0m\u001b[1;32m   1495\u001b[0m                 \u001b[0;32myield\u001b[0m \u001b[0mitem\u001b[0m\u001b[0;34m\u001b[0m\u001b[0;34m\u001b[0m\u001b[0m\n",
      "\u001b[0;32m/opt/conda/lib/python3.7/site-packages/google/cloud/bigquery/_pandas_helpers.py\u001b[0m in \u001b[0;36m_download_table_bqstorage\u001b[0;34m(project_id, table, bqstorage_client, preserve_order, selected_fields, page_to_item)\u001b[0m\n\u001b[1;32m    613\u001b[0m     requested_session = bigquery_storage.types.ReadSession(\n\u001b[0;32m--> 614\u001b[0;31m         \u001b[0mtable\u001b[0m\u001b[0;34m=\u001b[0m\u001b[0mtable\u001b[0m\u001b[0;34m.\u001b[0m\u001b[0mto_bqstorage\u001b[0m\u001b[0;34m(\u001b[0m\u001b[0;34m)\u001b[0m\u001b[0;34m,\u001b[0m \u001b[0mdata_format\u001b[0m\u001b[0;34m=\u001b[0m\u001b[0mbigquery_storage\u001b[0m\u001b[0;34m.\u001b[0m\u001b[0mtypes\u001b[0m\u001b[0;34m.\u001b[0m\u001b[0mDataFormat\u001b[0m\u001b[0;34m.\u001b[0m\u001b[0mARROW\u001b[0m\u001b[0;34m\u001b[0m\u001b[0;34m\u001b[0m\u001b[0m\n\u001b[0m\u001b[1;32m    615\u001b[0m     )\n",
      "\u001b[0;31mAttributeError\u001b[0m: module 'google.cloud.bigquery_storage_v1.types' has no attribute 'DataFormat'",
      "\nDuring handling of the above exception, another exception occurred:\n",
      "\u001b[0;31mAttributeError\u001b[0m                            Traceback (most recent call last)",
      "\u001b[0;32m<ipython-input-122-cdbd1cc0dc5e>\u001b[0m in \u001b[0;36m<module>\u001b[0;34m\u001b[0m\n\u001b[1;32m     14\u001b[0m \u001b[0;34m\u001b[0m\u001b[0m\n\u001b[1;32m     15\u001b[0m \u001b[0mjob\u001b[0m \u001b[0;34m=\u001b[0m \u001b[0mclient\u001b[0m\u001b[0;34m.\u001b[0m\u001b[0mquery\u001b[0m\u001b[0;34m(\u001b[0m\u001b[0msql_script\u001b[0m\u001b[0;34m)\u001b[0m\u001b[0;34m\u001b[0m\u001b[0;34m\u001b[0m\u001b[0m\n\u001b[0;32m---> 16\u001b[0;31m \u001b[0mjob\u001b[0m\u001b[0;34m.\u001b[0m\u001b[0mto_dataframe\u001b[0m\u001b[0;34m(\u001b[0m\u001b[0;34m)\u001b[0m\u001b[0;34m\u001b[0m\u001b[0;34m\u001b[0m\u001b[0m\n\u001b[0m",
      "\u001b[0;32m/opt/conda/lib/python3.7/site-packages/google/cloud/bigquery/job/query.py\u001b[0m in \u001b[0;36mto_dataframe\u001b[0;34m(self, bqstorage_client, dtypes, progress_bar_type, create_bqstorage_client, date_as_object)\u001b[0m\n\u001b[1;32m   1331\u001b[0m             \u001b[0mprogress_bar_type\u001b[0m\u001b[0;34m=\u001b[0m\u001b[0mprogress_bar_type\u001b[0m\u001b[0;34m,\u001b[0m\u001b[0;34m\u001b[0m\u001b[0;34m\u001b[0m\u001b[0m\n\u001b[1;32m   1332\u001b[0m             \u001b[0mcreate_bqstorage_client\u001b[0m\u001b[0;34m=\u001b[0m\u001b[0mcreate_bqstorage_client\u001b[0m\u001b[0;34m,\u001b[0m\u001b[0;34m\u001b[0m\u001b[0;34m\u001b[0m\u001b[0m\n\u001b[0;32m-> 1333\u001b[0;31m             \u001b[0mdate_as_object\u001b[0m\u001b[0;34m=\u001b[0m\u001b[0mdate_as_object\u001b[0m\u001b[0;34m,\u001b[0m\u001b[0;34m\u001b[0m\u001b[0;34m\u001b[0m\u001b[0m\n\u001b[0m\u001b[1;32m   1334\u001b[0m         )\n\u001b[1;32m   1335\u001b[0m \u001b[0;34m\u001b[0m\u001b[0m\n",
      "\u001b[0;32m/opt/conda/lib/python3.7/site-packages/google/cloud/bigquery/table.py\u001b[0m in \u001b[0;36mto_dataframe\u001b[0;34m(self, bqstorage_client, dtypes, progress_bar_type, create_bqstorage_client, date_as_object)\u001b[0m\n\u001b[1;32m   1768\u001b[0m             \u001b[0mprogress_bar_type\u001b[0m\u001b[0;34m=\u001b[0m\u001b[0mprogress_bar_type\u001b[0m\u001b[0;34m,\u001b[0m\u001b[0;34m\u001b[0m\u001b[0;34m\u001b[0m\u001b[0m\n\u001b[1;32m   1769\u001b[0m             \u001b[0mbqstorage_client\u001b[0m\u001b[0;34m=\u001b[0m\u001b[0mbqstorage_client\u001b[0m\u001b[0;34m,\u001b[0m\u001b[0;34m\u001b[0m\u001b[0;34m\u001b[0m\u001b[0m\n\u001b[0;32m-> 1770\u001b[0;31m             \u001b[0mcreate_bqstorage_client\u001b[0m\u001b[0;34m=\u001b[0m\u001b[0mcreate_bqstorage_client\u001b[0m\u001b[0;34m,\u001b[0m\u001b[0;34m\u001b[0m\u001b[0;34m\u001b[0m\u001b[0m\n\u001b[0m\u001b[1;32m   1771\u001b[0m         )\n\u001b[1;32m   1772\u001b[0m \u001b[0;34m\u001b[0m\u001b[0m\n",
      "\u001b[0;32m/opt/conda/lib/python3.7/site-packages/google/cloud/bigquery/table.py\u001b[0m in \u001b[0;36mto_arrow\u001b[0;34m(self, progress_bar_type, bqstorage_client, create_bqstorage_client)\u001b[0m\n\u001b[1;32m   1614\u001b[0m         \u001b[0;32mfinally\u001b[0m\u001b[0;34m:\u001b[0m\u001b[0;34m\u001b[0m\u001b[0;34m\u001b[0m\u001b[0m\n\u001b[1;32m   1615\u001b[0m             \u001b[0;32mif\u001b[0m \u001b[0mowns_bqstorage_client\u001b[0m\u001b[0;34m:\u001b[0m\u001b[0;34m\u001b[0m\u001b[0;34m\u001b[0m\u001b[0m\n\u001b[0;32m-> 1616\u001b[0;31m                 \u001b[0mbqstorage_client\u001b[0m\u001b[0;34m.\u001b[0m\u001b[0m_transport\u001b[0m\u001b[0;34m.\u001b[0m\u001b[0mgrpc_channel\u001b[0m\u001b[0;34m.\u001b[0m\u001b[0mclose\u001b[0m\u001b[0;34m(\u001b[0m\u001b[0;34m)\u001b[0m\u001b[0;34m\u001b[0m\u001b[0;34m\u001b[0m\u001b[0m\n\u001b[0m\u001b[1;32m   1617\u001b[0m \u001b[0;34m\u001b[0m\u001b[0m\n\u001b[1;32m   1618\u001b[0m         \u001b[0;32mif\u001b[0m \u001b[0mrecord_batches\u001b[0m\u001b[0;34m:\u001b[0m\u001b[0;34m\u001b[0m\u001b[0;34m\u001b[0m\u001b[0m\n",
      "\u001b[0;31mAttributeError\u001b[0m: 'BigQueryReadClient' object has no attribute '_transport'"
     ]
    }
   ],
   "source": [
    "sql_script_template = '''\n",
    "\n",
    "SELECT *\n",
    "      FROM\n",
    "`@PROJECT.@DATASET.@TABLE`\n",
    "LIMIT @LIMIT\n",
    "'''\n",
    "\n",
    "sql_script = sql_script_template.replace(\n",
    "    '@PROJECT', PROJECT_ID).replace(\n",
    "    '@DATASET', DESTINATION_DATA_SET).replace(\n",
    "    '@TABLE', DESTINATION_TABLE_NAME).replace(\n",
    "    '@LIMIT', str(SAMPLE_SIZE))\n",
    "\n",
    "job = client.query(sql_script)\n",
    "job.to_dataframe()"
   ]
  },
  {
   "cell_type": "code",
   "execution_count": 119,
   "metadata": {},
   "outputs": [
    {
     "name": "stderr",
     "output_type": "stream",
     "text": [
      "Query complete after 0.00s: 100%|██████████| 1/1 [00:00<00:00, 743.67query/s] \n",
      "Downloading:   0%|          | 0/5 [00:00<?, ?rows/s]"
     ]
    },
    {
     "ename": "AttributeError",
     "evalue": "'BigQueryReadClient' object has no attribute '_transport'",
     "output_type": "error",
     "traceback": [
      "\u001b[0;31m---------------------------------------------------------------------------\u001b[0m",
      "\u001b[0;31mAttributeError\u001b[0m                            Traceback (most recent call last)",
      "\u001b[0;32m/opt/conda/lib/python3.7/site-packages/google/cloud/bigquery/magics/magics.py\u001b[0m in \u001b[0;36m_cell_magic\u001b[0;34m(line, query)\u001b[0m\n\u001b[1;32m    734\u001b[0m             result = query_job.to_dataframe(\n\u001b[0;32m--> 735\u001b[0;31m                 \u001b[0mbqstorage_client\u001b[0m\u001b[0;34m=\u001b[0m\u001b[0mbqstorage_client\u001b[0m\u001b[0;34m,\u001b[0m \u001b[0mprogress_bar_type\u001b[0m\u001b[0;34m=\u001b[0m\u001b[0mprogress_bar\u001b[0m\u001b[0;34m\u001b[0m\u001b[0;34m\u001b[0m\u001b[0m\n\u001b[0m\u001b[1;32m    736\u001b[0m             )\n",
      "\u001b[0;32m/opt/conda/lib/python3.7/site-packages/google/cloud/bigquery/job/query.py\u001b[0m in \u001b[0;36mto_dataframe\u001b[0;34m(self, bqstorage_client, dtypes, progress_bar_type, create_bqstorage_client, date_as_object)\u001b[0m\n\u001b[1;32m   1332\u001b[0m             \u001b[0mcreate_bqstorage_client\u001b[0m\u001b[0;34m=\u001b[0m\u001b[0mcreate_bqstorage_client\u001b[0m\u001b[0;34m,\u001b[0m\u001b[0;34m\u001b[0m\u001b[0;34m\u001b[0m\u001b[0m\n\u001b[0;32m-> 1333\u001b[0;31m             \u001b[0mdate_as_object\u001b[0m\u001b[0;34m=\u001b[0m\u001b[0mdate_as_object\u001b[0m\u001b[0;34m,\u001b[0m\u001b[0;34m\u001b[0m\u001b[0;34m\u001b[0m\u001b[0m\n\u001b[0m\u001b[1;32m   1334\u001b[0m         )\n",
      "\u001b[0;32m/opt/conda/lib/python3.7/site-packages/google/cloud/bigquery/table.py\u001b[0m in \u001b[0;36mto_dataframe\u001b[0;34m(self, bqstorage_client, dtypes, progress_bar_type, create_bqstorage_client, date_as_object)\u001b[0m\n\u001b[1;32m   1769\u001b[0m             \u001b[0mbqstorage_client\u001b[0m\u001b[0;34m=\u001b[0m\u001b[0mbqstorage_client\u001b[0m\u001b[0;34m,\u001b[0m\u001b[0;34m\u001b[0m\u001b[0;34m\u001b[0m\u001b[0m\n\u001b[0;32m-> 1770\u001b[0;31m             \u001b[0mcreate_bqstorage_client\u001b[0m\u001b[0;34m=\u001b[0m\u001b[0mcreate_bqstorage_client\u001b[0m\u001b[0;34m,\u001b[0m\u001b[0;34m\u001b[0m\u001b[0;34m\u001b[0m\u001b[0m\n\u001b[0m\u001b[1;32m   1771\u001b[0m         )\n",
      "\u001b[0;32m/opt/conda/lib/python3.7/site-packages/google/cloud/bigquery/table.py\u001b[0m in \u001b[0;36mto_arrow\u001b[0;34m(self, progress_bar_type, bqstorage_client, create_bqstorage_client)\u001b[0m\n\u001b[1;32m   1599\u001b[0m             for record_batch in self._to_arrow_iterable(\n\u001b[0;32m-> 1600\u001b[0;31m                 \u001b[0mbqstorage_client\u001b[0m\u001b[0;34m=\u001b[0m\u001b[0mbqstorage_client\u001b[0m\u001b[0;34m\u001b[0m\u001b[0;34m\u001b[0m\u001b[0m\n\u001b[0m\u001b[1;32m   1601\u001b[0m             ):\n",
      "\u001b[0;32m/opt/conda/lib/python3.7/site-packages/google/cloud/bigquery/table.py\u001b[0m in \u001b[0;36m_to_page_iterable\u001b[0;34m(self, bqstorage_download, tabledata_list_download, bqstorage_client)\u001b[0m\n\u001b[1;32m   1493\u001b[0m         \u001b[0;32mif\u001b[0m \u001b[0mbqstorage_client\u001b[0m \u001b[0;32mis\u001b[0m \u001b[0;32mnot\u001b[0m \u001b[0;32mNone\u001b[0m\u001b[0;34m:\u001b[0m\u001b[0;34m\u001b[0m\u001b[0;34m\u001b[0m\u001b[0m\n\u001b[0;32m-> 1494\u001b[0;31m             \u001b[0;32mfor\u001b[0m \u001b[0mitem\u001b[0m \u001b[0;32min\u001b[0m \u001b[0mbqstorage_download\u001b[0m\u001b[0;34m(\u001b[0m\u001b[0;34m)\u001b[0m\u001b[0;34m:\u001b[0m\u001b[0;34m\u001b[0m\u001b[0;34m\u001b[0m\u001b[0m\n\u001b[0m\u001b[1;32m   1495\u001b[0m                 \u001b[0;32myield\u001b[0m \u001b[0mitem\u001b[0m\u001b[0;34m\u001b[0m\u001b[0;34m\u001b[0m\u001b[0m\n",
      "\u001b[0;32m/opt/conda/lib/python3.7/site-packages/google/cloud/bigquery/_pandas_helpers.py\u001b[0m in \u001b[0;36m_download_table_bqstorage\u001b[0;34m(project_id, table, bqstorage_client, preserve_order, selected_fields, page_to_item)\u001b[0m\n\u001b[1;32m    613\u001b[0m     requested_session = bigquery_storage.types.ReadSession(\n\u001b[0;32m--> 614\u001b[0;31m         \u001b[0mtable\u001b[0m\u001b[0;34m=\u001b[0m\u001b[0mtable\u001b[0m\u001b[0;34m.\u001b[0m\u001b[0mto_bqstorage\u001b[0m\u001b[0;34m(\u001b[0m\u001b[0;34m)\u001b[0m\u001b[0;34m,\u001b[0m \u001b[0mdata_format\u001b[0m\u001b[0;34m=\u001b[0m\u001b[0mbigquery_storage\u001b[0m\u001b[0;34m.\u001b[0m\u001b[0mtypes\u001b[0m\u001b[0;34m.\u001b[0m\u001b[0mDataFormat\u001b[0m\u001b[0;34m.\u001b[0m\u001b[0mARROW\u001b[0m\u001b[0;34m\u001b[0m\u001b[0;34m\u001b[0m\u001b[0m\n\u001b[0m\u001b[1;32m    615\u001b[0m     )\n",
      "\u001b[0;31mAttributeError\u001b[0m: module 'google.cloud.bigquery_storage_v1.types' has no attribute 'DataFormat'",
      "\nDuring handling of the above exception, another exception occurred:\n",
      "\u001b[0;31mAttributeError\u001b[0m                            Traceback (most recent call last)",
      "\u001b[0;32m<ipython-input-119-dc2a563efe39>\u001b[0m in \u001b[0;36m<module>\u001b[0;34m\u001b[0m\n\u001b[0;32m----> 1\u001b[0;31m \u001b[0mget_ipython\u001b[0m\u001b[0;34m(\u001b[0m\u001b[0;34m)\u001b[0m\u001b[0;34m.\u001b[0m\u001b[0mrun_cell_magic\u001b[0m\u001b[0;34m(\u001b[0m\u001b[0;34m'bigquery'\u001b[0m\u001b[0;34m,\u001b[0m \u001b[0;34m'data'\u001b[0m\u001b[0;34m,\u001b[0m \u001b[0;34m'SELECT * \\nFROM\\njsb-demos.jsb_taxi_dataset2.training_data_20210729173804\\nLIMIT 10\\n'\u001b[0m\u001b[0;34m)\u001b[0m\u001b[0;34m\u001b[0m\u001b[0;34m\u001b[0m\u001b[0m\n\u001b[0m",
      "\u001b[0;32m/opt/conda/lib/python3.7/site-packages/IPython/core/interactiveshell.py\u001b[0m in \u001b[0;36mrun_cell_magic\u001b[0;34m(self, magic_name, line, cell)\u001b[0m\n\u001b[1;32m   2380\u001b[0m             \u001b[0;32mwith\u001b[0m \u001b[0mself\u001b[0m\u001b[0;34m.\u001b[0m\u001b[0mbuiltin_trap\u001b[0m\u001b[0;34m:\u001b[0m\u001b[0;34m\u001b[0m\u001b[0;34m\u001b[0m\u001b[0m\n\u001b[1;32m   2381\u001b[0m                 \u001b[0margs\u001b[0m \u001b[0;34m=\u001b[0m \u001b[0;34m(\u001b[0m\u001b[0mmagic_arg_s\u001b[0m\u001b[0;34m,\u001b[0m \u001b[0mcell\u001b[0m\u001b[0;34m)\u001b[0m\u001b[0;34m\u001b[0m\u001b[0;34m\u001b[0m\u001b[0m\n\u001b[0;32m-> 2382\u001b[0;31m                 \u001b[0mresult\u001b[0m \u001b[0;34m=\u001b[0m \u001b[0mfn\u001b[0m\u001b[0;34m(\u001b[0m\u001b[0;34m*\u001b[0m\u001b[0margs\u001b[0m\u001b[0;34m,\u001b[0m \u001b[0;34m**\u001b[0m\u001b[0mkwargs\u001b[0m\u001b[0;34m)\u001b[0m\u001b[0;34m\u001b[0m\u001b[0;34m\u001b[0m\u001b[0m\n\u001b[0m\u001b[1;32m   2383\u001b[0m             \u001b[0;32mreturn\u001b[0m \u001b[0mresult\u001b[0m\u001b[0;34m\u001b[0m\u001b[0;34m\u001b[0m\u001b[0m\n\u001b[1;32m   2384\u001b[0m \u001b[0;34m\u001b[0m\u001b[0m\n",
      "\u001b[0;32m/opt/conda/lib/python3.7/site-packages/google/cloud/bigquery/magics/magics.py\u001b[0m in \u001b[0;36m_cell_magic\u001b[0;34m(line, query)\u001b[0m\n\u001b[1;32m    741\u001b[0m             \u001b[0;32mreturn\u001b[0m \u001b[0mresult\u001b[0m\u001b[0;34m\u001b[0m\u001b[0;34m\u001b[0m\u001b[0m\n\u001b[1;32m    742\u001b[0m     \u001b[0;32mfinally\u001b[0m\u001b[0;34m:\u001b[0m\u001b[0;34m\u001b[0m\u001b[0;34m\u001b[0m\u001b[0m\n\u001b[0;32m--> 743\u001b[0;31m         \u001b[0mclose_transports\u001b[0m\u001b[0;34m(\u001b[0m\u001b[0;34m)\u001b[0m\u001b[0;34m\u001b[0m\u001b[0;34m\u001b[0m\u001b[0m\n\u001b[0m\u001b[1;32m    744\u001b[0m \u001b[0;34m\u001b[0m\u001b[0m\n\u001b[1;32m    745\u001b[0m \u001b[0;34m\u001b[0m\u001b[0m\n",
      "\u001b[0;32m/opt/conda/lib/python3.7/site-packages/google/cloud/bigquery/magics/magics.py\u001b[0m in \u001b[0;36m_close_transports\u001b[0;34m(client, bqstorage_client)\u001b[0m\n\u001b[1;32m    808\u001b[0m     \u001b[0mclient\u001b[0m\u001b[0;34m.\u001b[0m\u001b[0mclose\u001b[0m\u001b[0;34m(\u001b[0m\u001b[0;34m)\u001b[0m\u001b[0;34m\u001b[0m\u001b[0;34m\u001b[0m\u001b[0m\n\u001b[1;32m    809\u001b[0m     \u001b[0;32mif\u001b[0m \u001b[0mbqstorage_client\u001b[0m \u001b[0;32mis\u001b[0m \u001b[0;32mnot\u001b[0m \u001b[0;32mNone\u001b[0m\u001b[0;34m:\u001b[0m\u001b[0;34m\u001b[0m\u001b[0;34m\u001b[0m\u001b[0m\n\u001b[0;32m--> 810\u001b[0;31m         \u001b[0mbqstorage_client\u001b[0m\u001b[0;34m.\u001b[0m\u001b[0m_transport\u001b[0m\u001b[0;34m.\u001b[0m\u001b[0mgrpc_channel\u001b[0m\u001b[0;34m.\u001b[0m\u001b[0mclose\u001b[0m\u001b[0;34m(\u001b[0m\u001b[0;34m)\u001b[0m\u001b[0;34m\u001b[0m\u001b[0;34m\u001b[0m\u001b[0m\n\u001b[0m",
      "\u001b[0;31mAttributeError\u001b[0m: 'BigQueryReadClient' object has no attribute '_transport'"
     ]
    }
   ],
   "source": [
    "%%bigquery data\n",
    "SELECT * \n",
    "FROM\n",
    "jsb-demos.jsb_taxi_dataset2.training_data_20210729173804\n",
    "LIMIT 10"
   ]
  },
  {
   "cell_type": "code",
   "execution_count": null,
   "metadata": {},
   "outputs": [],
   "source": []
  },
  {
   "cell_type": "code",
   "execution_count": 29,
   "metadata": {},
   "outputs": [
    {
     "name": "stdout",
     "output_type": "stream",
     "text": [
      "Executing query with job ID: 6c5e15ec-bbfe-464c-95e5-083d508ebae4\n",
      "Query executing: 1.27s"
     ]
    },
    {
     "name": "stderr",
     "output_type": "stream",
     "text": [
      "\n",
      "ERROR:\n",
      " 404 Not found: Project jk-test-1002\n",
      "\n",
      "(job ID: 6c5e15ec-bbfe-464c-95e5-083d508ebae4)\n",
      "\n",
      "             -----Query Job SQL Follows-----             \n",
      "\n",
      "    |    .    |    .    |    .    |    .    |    .    |\n",
      "   1:SELECT * \n",
      "   2:FROM\n",
      "   3:`jk-test-1002.jktest2_dataset.feature_staging_table`\n",
      "   4:LIMIT 10\n",
      "    |    .    |    .    |    .    |    .    |    .    |\n"
     ]
    },
    {
     "ename": "AttributeError",
     "evalue": "'BigQueryReadClient' object has no attribute '_transport'",
     "output_type": "error",
     "traceback": [
      "\u001b[0;31m---------------------------------------------------------------------------\u001b[0m",
      "\u001b[0;31mAttributeError\u001b[0m                            Traceback (most recent call last)",
      "\u001b[0;32m<ipython-input-29-922a441f3844>\u001b[0m in \u001b[0;36m<module>\u001b[0;34m\u001b[0m\n\u001b[0;32m----> 1\u001b[0;31m \u001b[0mget_ipython\u001b[0m\u001b[0;34m(\u001b[0m\u001b[0;34m)\u001b[0m\u001b[0;34m.\u001b[0m\u001b[0mrun_cell_magic\u001b[0m\u001b[0;34m(\u001b[0m\u001b[0;34m'bigquery'\u001b[0m\u001b[0;34m,\u001b[0m \u001b[0;34m''\u001b[0m\u001b[0;34m,\u001b[0m \u001b[0;34m'SELECT * \\nFROM\\n`jk-test-1002.jktest2_dataset.feature_staging_table`\\nLIMIT 10\\n'\u001b[0m\u001b[0;34m)\u001b[0m\u001b[0;34m\u001b[0m\u001b[0;34m\u001b[0m\u001b[0m\n\u001b[0m",
      "\u001b[0;32m/opt/conda/lib/python3.7/site-packages/IPython/core/interactiveshell.py\u001b[0m in \u001b[0;36mrun_cell_magic\u001b[0;34m(self, magic_name, line, cell)\u001b[0m\n\u001b[1;32m   2380\u001b[0m             \u001b[0;32mwith\u001b[0m \u001b[0mself\u001b[0m\u001b[0;34m.\u001b[0m\u001b[0mbuiltin_trap\u001b[0m\u001b[0;34m:\u001b[0m\u001b[0;34m\u001b[0m\u001b[0;34m\u001b[0m\u001b[0m\n\u001b[1;32m   2381\u001b[0m                 \u001b[0margs\u001b[0m \u001b[0;34m=\u001b[0m \u001b[0;34m(\u001b[0m\u001b[0mmagic_arg_s\u001b[0m\u001b[0;34m,\u001b[0m \u001b[0mcell\u001b[0m\u001b[0;34m)\u001b[0m\u001b[0;34m\u001b[0m\u001b[0;34m\u001b[0m\u001b[0m\n\u001b[0;32m-> 2382\u001b[0;31m                 \u001b[0mresult\u001b[0m \u001b[0;34m=\u001b[0m \u001b[0mfn\u001b[0m\u001b[0;34m(\u001b[0m\u001b[0;34m*\u001b[0m\u001b[0margs\u001b[0m\u001b[0;34m,\u001b[0m \u001b[0;34m**\u001b[0m\u001b[0mkwargs\u001b[0m\u001b[0;34m)\u001b[0m\u001b[0;34m\u001b[0m\u001b[0;34m\u001b[0m\u001b[0m\n\u001b[0m\u001b[1;32m   2383\u001b[0m             \u001b[0;32mreturn\u001b[0m \u001b[0mresult\u001b[0m\u001b[0;34m\u001b[0m\u001b[0;34m\u001b[0m\u001b[0m\n\u001b[1;32m   2384\u001b[0m \u001b[0;34m\u001b[0m\u001b[0m\n",
      "\u001b[0;32m/opt/conda/lib/python3.7/site-packages/google/cloud/bigquery/magics/magics.py\u001b[0m in \u001b[0;36m_cell_magic\u001b[0;34m(line, query)\u001b[0m\n\u001b[1;32m    741\u001b[0m             \u001b[0;32mreturn\u001b[0m \u001b[0mresult\u001b[0m\u001b[0;34m\u001b[0m\u001b[0;34m\u001b[0m\u001b[0m\n\u001b[1;32m    742\u001b[0m     \u001b[0;32mfinally\u001b[0m\u001b[0;34m:\u001b[0m\u001b[0;34m\u001b[0m\u001b[0;34m\u001b[0m\u001b[0m\n\u001b[0;32m--> 743\u001b[0;31m         \u001b[0mclose_transports\u001b[0m\u001b[0;34m(\u001b[0m\u001b[0;34m)\u001b[0m\u001b[0;34m\u001b[0m\u001b[0;34m\u001b[0m\u001b[0m\n\u001b[0m\u001b[1;32m    744\u001b[0m \u001b[0;34m\u001b[0m\u001b[0m\n\u001b[1;32m    745\u001b[0m \u001b[0;34m\u001b[0m\u001b[0m\n",
      "\u001b[0;32m/opt/conda/lib/python3.7/site-packages/google/cloud/bigquery/magics/magics.py\u001b[0m in \u001b[0;36m_close_transports\u001b[0;34m(client, bqstorage_client)\u001b[0m\n\u001b[1;32m    808\u001b[0m     \u001b[0mclient\u001b[0m\u001b[0;34m.\u001b[0m\u001b[0mclose\u001b[0m\u001b[0;34m(\u001b[0m\u001b[0;34m)\u001b[0m\u001b[0;34m\u001b[0m\u001b[0;34m\u001b[0m\u001b[0m\n\u001b[1;32m    809\u001b[0m     \u001b[0;32mif\u001b[0m \u001b[0mbqstorage_client\u001b[0m \u001b[0;32mis\u001b[0m \u001b[0;32mnot\u001b[0m \u001b[0;32mNone\u001b[0m\u001b[0;34m:\u001b[0m\u001b[0;34m\u001b[0m\u001b[0;34m\u001b[0m\u001b[0m\n\u001b[0;32m--> 810\u001b[0;31m         \u001b[0mbqstorage_client\u001b[0m\u001b[0;34m.\u001b[0m\u001b[0m_transport\u001b[0m\u001b[0;34m.\u001b[0m\u001b[0mgrpc_channel\u001b[0m\u001b[0;34m.\u001b[0m\u001b[0mclose\u001b[0m\u001b[0;34m(\u001b[0m\u001b[0;34m)\u001b[0m\u001b[0;34m\u001b[0m\u001b[0;34m\u001b[0m\u001b[0m\n\u001b[0m",
      "\u001b[0;31mAttributeError\u001b[0m: 'BigQueryReadClient' object has no attribute '_transport'"
     ]
    }
   ],
   "source": [
    "%%bigquery\n",
    "SELECT * \n",
    "FROM\n",
    "`jk-test-1002.jktest2_dataset.feature_staging_table`\n",
    "LIMIT 10"
   ]
  },
  {
   "cell_type": "markdown",
   "metadata": {},
   "source": [
    "## Clean up"
   ]
  },
  {
   "cell_type": "code",
   "execution_count": null,
   "metadata": {},
   "outputs": [],
   "source": [
    "admin_client.delete_featurestore(\n",
    "    featurestore_service_pb2.DeleteFeaturestoreRequest(\n",
    "        name=admin_client.featurestore_path(PROJECT_ID, REGION, FEATURESTORE_ID),\n",
    "        force=True\n",
    "    )\n",
    ")"
   ]
  },
  {
   "cell_type": "code",
   "execution_count": null,
   "metadata": {},
   "outputs": [],
   "source": []
  }
 ],
 "metadata": {
  "environment": {
   "name": "tf2-cpu.2-4.m69",
   "type": "gcloud",
   "uri": "gcr.io/deeplearning-platform-release/tf2-cpu.2-4:m69"
  },
  "kernelspec": {
   "display_name": "Python 3",
   "language": "python",
   "name": "python3"
  },
  "language_info": {
   "codemirror_mode": {
    "name": "ipython",
    "version": 3
   },
   "file_extension": ".py",
   "mimetype": "text/x-python",
   "name": "python",
   "nbconvert_exporter": "python",
   "pygments_lexer": "ipython3",
   "version": "3.7.9"
  }
 },
 "nbformat": 4,
 "nbformat_minor": 5
}
